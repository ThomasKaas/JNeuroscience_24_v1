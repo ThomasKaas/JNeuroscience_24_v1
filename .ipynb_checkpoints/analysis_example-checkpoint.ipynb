{
 "cells": [
  {
   "cell_type": "code",
   "execution_count": null,
   "id": "ed0d434d",
   "metadata": {},
   "outputs": [],
   "source": [
    "import sys\n",
    "sys.path.append('functions') #Path under which .py defining functions are stored\n",
    "import numpy as np\n",
    "# Load .py-Scripts with pre-defined functions\n",
    "from train_analysis_functions import *\n",
    "from train_analysis_plotting import *\n",
    "from parameters_train_analysis import *\n",
    "\n",
    "import seaborn as sns\n",
    "\n",
    "# Mainly needed for interactive visualization of fitting of EPSC decay\n",
    "import ipywidgets as widgets\n",
    "from IPython.display import display\n",
    "from IPython.display import clear_output\n",
    "\n",
    "path_raw_data        = 'data_example/'\n",
    "path_meta_data       = 'data_example/meta_data_file_example.xlsx'"
   ]
  },
  {
   "cell_type": "markdown",
   "id": "4a689ed1",
   "metadata": {},
   "source": [
    "## 1. Analysis of Synchronous Release: \n",
    "### Steady-State, Paired-Pulse Ratio (2nd/1st EPSC), Kinetics of Recovery\n",
    "\n",
    "1. The baseline of each sweep was subtracted and an average trace for a given cell was calculated.\n",
    "2. A 5kHz low-pass Butterworth filter was applied (\"train_analysis_parameters.py\").\n",
    "3. All stimulation artefacts were removed from that trace using blanking window with a total length of 1.8 ms (0.6 ms before the onset of stimulation until 1.2 ms after the end of a given stimulus). \n",
    "4. For every mean evoked EPSCs the baseline (0.4–2 ms before onset of the stimulation artefact) and the maximal negative peak (0–4 ms after the onset of the stimulation artefact) was calculated.\n",
    "5. The paired-pulse ratio (PPR) was calculated as the ratio of the amplitude of the second to the first EPSC during high-frequency transmission. The steady-state amplitude (SS) was calculated as the average of the peaks of the last five EPSCs. The time course of the amplitude of the EPSCs in the recovery phase was fitted using a mono-exponential function and the subsequent tau value was extracted."
   ]
  },
  {
   "cell_type": "code",
   "execution_count": null,
   "id": "c2892696",
   "metadata": {},
   "outputs": [],
   "source": [
    "_,df_final,df_advanced_final,_,_ = train_analysis_batched(age=[3,6,9],frequency=[10,50,100],filtered=True,del_artefacts=True,export=True)\n",
    "summary_stats(df_advanced_final)"
   ]
  },
  {
   "cell_type": "code",
   "execution_count": null,
   "id": "66130999",
   "metadata": {},
   "outputs": [],
   "source": [
    "# View the analysis for every inidividual train in the dataset\n",
    "df_advanced_final"
   ]
  },
  {
   "cell_type": "markdown",
   "id": "d929d921",
   "metadata": {},
   "source": [
    "## 2. Analysis of Asynchronous Release: \n",
    "### 2.1 Cumulative Charge Transfer (calculated from Peak)\n",
    "\n",
    "The cumulative charge transfer is calculated by taking the integral of the postsynaptic current over a given time window (using Function 8 or 8.1 from \"train_analysis_functions.py\"). The routine works as follows:\n",
    "1. Trains that reflect certain quality characteristics are loaded and their sweeps are averaged, if\n",
    "   there is more than 1 sweep. If there is only one sweep, the corresponding sweep is representing the train without averaging. \n",
    "2. For every event specified by the numbers in the input variable \"eventlist\" the peak is detected and  \n",
    "   its corresponding index stored. \n",
    "3. A window of for integration is defined starting from the index of the negative peak or from end of stimulation for a lenght \n",
    "   pre-specified (via the variable \"charge_transfer_window\" in the file \"parameters_train_analysis\") is choosen. Typically this windows is set having a lenght of t = 10ms. For the cropped event the relative cumulative charge is calculated using the function \"np.cumsum\" and stored with the corresponding time-points. This is done for every cell that matches selection criteria for age and at a frequency of 50Hz \n",
    "\n",
    "Note: Function 8 \"cumulative_charge_transfer_analysis\" calculates the charge transfer from the peak of the event while function 8.1 \"CCT_uzay\" calculates from the end of stimulation respectively! "
   ]
  },
  {
   "cell_type": "code",
   "execution_count": null,
   "id": "f3f15168",
   "metadata": {},
   "outputs": [],
   "source": [
    "# CCT calculated from the peak for 10ms\n",
    "cum_charge = cumulative_charge_transfer_analysis(age_list=[3,6,9],eventlist=[0,20]) #Eventduration is preset to 10ms\n",
    "# CCT calculated from end of stimulation artefact for 10ms (like in Uzay et al. 2023)\n",
    "cum_charge_uzay = pd.DataFrame(CCT_uzay(ages=[3,6,9], frequencies=[50],eventlist=[0,20],event_duration=10))"
   ]
  },
  {
   "cell_type": "code",
   "execution_count": null,
   "id": "0a5634bb",
   "metadata": {},
   "outputs": [],
   "source": [
    "%matplotlib notebook\n",
    "# Plot results for cumulative charge transfer (mean +/- SEM) calculated from peak.\n",
    "# To change the number of the event to be visualized, just select \"y=event_0\" to \"y=event_X\". \n",
    "sns.lineplot(data=cum_charge[cum_charge['Age'] == 3],x=\"time\", y=\"event_0\",label=\"WIV 3\")\n",
    "sns.lineplot(data=cum_charge[cum_charge['Age'] == 6],x=\"time\", y=\"event_0\",label=\"WIV 6\")\n",
    "sns.lineplot(data=cum_charge[cum_charge['Age'] == 9],x=\"time\", y=\"event_0\",label=\"WIV 9\")"
   ]
  },
  {
   "cell_type": "code",
   "execution_count": null,
   "id": "5b9fe074",
   "metadata": {},
   "outputs": [],
   "source": [
    "%matplotlib notebook\n",
    "# Transform dataframe \"cum_charge_uzay\" into a format readable by sns.lineplot\n",
    "cct_uzay_list = [cum_charge_uzay['cct'][i] for i in range(0,type(cum_charge_uzay['cct'].shape[0])) if cum_charge_uzay['event_index'][i]==0]\n",
    "cct_uzay_concat = np.concatenate(cct_uzay_list)\n",
    "new_df = cum_charge[['Filename', 'Age', 'Frequency', 'cell_index', 'time', 'event_0']].copy()\n",
    "new_df.loc[:, 'event_0'] = cct_uzay_concat\n",
    "# Plot the first event across time for cumulative charge transfer (mean +/- SEM) calculated from end of stimulus.\n",
    "sns.lineplot(data=cum_charge[cum_charge['Age'] == 3],x=\"time\", y=\"event_0\",label=\"WIV 3\")\n",
    "sns.lineplot(data=cum_charge[cum_charge['Age'] == 6],x=\"time\", y=\"event_0\",label=\"WIV 6\")\n",
    "sns.lineplot(data=cum_charge[cum_charge['Age'] == 9],x=\"time\", y=\"event_0\",label=\"WIV 9\")"
   ]
  },
  {
   "cell_type": "code",
   "execution_count": null,
   "id": "22730d4d",
   "metadata": {},
   "outputs": [],
   "source": [
    "# Export the results into a .CSV marked with a timestamp\n",
    "filename = 'output/cum_charge' + timestr + '.csv'\n",
    "cum_charge.to_csv(filename, index=False)"
   ]
  },
  {
   "cell_type": "markdown",
   "id": "4413380b",
   "metadata": {},
   "source": [
    "### 2.2 Time-to-half Maxium of CT (IC50)\n",
    "\n",
    "Charge transfer is given as the output of Function 8 \"cumulative_charge_transfer_analysis\" or Function 8.1 \"CCT_uzay\". Applying function 10 \"get_ic50_values\" yields to corresponding values for the time-to-half maximum in ms for the averaged CCT for each cell. Alternatively when using data for the charge-transfer obtain by applying function 8.1 it is given directly as an output as a seperate column (\"ic50_ms\") in the results dataframe.\n",
    "#### 2.2.1 For the first EPSC in a given train"
   ]
  },
  {
   "cell_type": "code",
   "execution_count": null,
   "id": "9b48d496",
   "metadata": {},
   "outputs": [],
   "source": [
    "# Create a general DF for CCT including all age groups.\n",
    "df = cumulative_charge_transfer_analysis(age_list=[3,6,9],eventlist=[i for i in range(21)])\n",
    "# Apply a new function on the resulting dataframe to extract the IC50-values for the CCT.\n",
    "ic_50 = get_ic50_values(df, agelist=[3,6,9],eventnumber=0)\n",
    "ic_50"
   ]
  },
  {
   "cell_type": "code",
   "execution_count": null,
   "id": "3df85d3a",
   "metadata": {},
   "outputs": [],
   "source": [
    "%matplotlib notebook\n",
    "sns.boxplot(x=\"Age\", y=\"IC_50(ms)_event_0\", data=ic_50)\n",
    "sns.stripplot(x=\"Age\", y=\"IC_50(ms)_event_0\", data=ic_50, color=\"black\", size=4, jitter=True, alpha=0.7)\n",
    "plt.xlabel(\"Age Group\")\n",
    "plt.ylabel(\"IC_50 (ms)\")\n",
    "plt.title(\"Boxplot of IC_50 Values by Age Group first EPSC\")"
   ]
  },
  {
   "cell_type": "code",
   "execution_count": null,
   "id": "9813a472",
   "metadata": {},
   "outputs": [],
   "source": [
    "# Export calculated IC50 values accordingly\n",
    "filename = 'output/IC_50_first_epsc_' + timestr + '.csv'\n",
    "ic_50.to_csv(filename, index=False)"
   ]
  },
  {
   "cell_type": "markdown",
   "id": "c02842b1",
   "metadata": {},
   "source": [
    "#### 2.2.2 Time-to-half Maxium of CT (IC50) for the last EPSC in a train.\n",
    "\n",
    "Now the same analysis can be performed to check for the last event in a given train."
   ]
  },
  {
   "cell_type": "code",
   "execution_count": null,
   "id": "f465af8c",
   "metadata": {},
   "outputs": [],
   "source": [
    "df = cumulative_charge_transfer_analysis(age_list=[3,6,9],eventlist=[i for i in range(21)])\n",
    "ic_50 = get_ic50_values(df, agelist=[3,6,9],eventnumber=20)\n",
    "ic_50"
   ]
  },
  {
   "cell_type": "code",
   "execution_count": null,
   "id": "f5ae5736",
   "metadata": {},
   "outputs": [],
   "source": [
    "# Visualize results for the IC50 value as a boxplot.\n",
    "sns.boxplot(x=\"Age\", y=\"IC_50(ms)_event_20\", data=ic_50)\n",
    "sns.stripplot(x=\"Age\", y=\"IC_50(ms)_event_20\", data=ic_50, color=\"black\", size=4, jitter=True, alpha=0.7)\n",
    "plt.xlabel(\"Age Group\")\n",
    "plt.ylabel(\"IC_50 (ms)\")\n",
    "plt.title(\"Boxplot of IC_50 Values by Age Group last EPSC\")"
   ]
  },
  {
   "cell_type": "code",
   "execution_count": null,
   "id": "7de91e48",
   "metadata": {},
   "outputs": [],
   "source": [
    "# Export results.\n",
    "filename = 'output/IC_50_last_epsc_' + timestr + '.csv'\n",
    "ic_50.to_csv(filename, index=False)"
   ]
  },
  {
   "cell_type": "markdown",
   "id": "152431af",
   "metadata": {},
   "source": [
    "### 2.3 EPSC Decay\n",
    "\n",
    "This section calls Function 13 \"decay_fit\" "
   ]
  },
  {
   "cell_type": "code",
   "execution_count": null,
   "id": "41bf4087",
   "metadata": {},
   "outputs": [],
   "source": [
    "decays,data_decay_fitting = decay_fit(ages=[3,6,9],frequencies=[10,50,100],event_number=0)\n",
    "decays"
   ]
  },
  {
   "cell_type": "code",
   "execution_count": null,
   "id": "90b2b531",
   "metadata": {},
   "outputs": [],
   "source": [
    "decay_uzay = decays.query('Frequency == 50')\n",
    "filename = 'decay_uzay.csv'\n",
    "decay_uzay.to_csv(filename, index=False)"
   ]
  },
  {
   "cell_type": "code",
   "execution_count": null,
   "id": "35fcf5bd",
   "metadata": {},
   "outputs": [],
   "source": [
    "filename = 'results/tau_decay_first_epsc_' + timestr + '.csv'\n",
    "decays.to_csv(filename, index=False)"
   ]
  },
  {
   "cell_type": "code",
   "execution_count": null,
   "id": "54b16f6a",
   "metadata": {},
   "outputs": [],
   "source": [
    "# Interactively visualize the Results of the Fitting Procedure\n",
    "%matplotlib notebook\n",
    "def update_plot(i):\n",
    "    clear_output(wait=True)  # Clear the output area (including previous plot)\n",
    "    plt.figure(figsize=(8, 6))  # Create a new figure, seems to be important for proper interaction\n",
    "    plt.plot(data_decay_fitting['y_data'][i], label='Original Data')\n",
    "    plt.plot(data_decay_fitting['y_data_fitted'][i], label='Fitted Data')\n",
    "    plt.legend()\n",
    "    plt.show()\n",
    "\n",
    "# Create a dropdown menu for the index i\n",
    "dropdown = widgets.Dropdown(\n",
    "    options=[(str(index), index) for index in range(len(data_decay_fitting['y_data']))],\n",
    "    value=0,\n",
    "    description='i:'\n",
    ")\n",
    "\n",
    "# Link the dropdown to the update_plot function\n",
    "widgets.interactive(update_plot, i=dropdown)"
   ]
  },
  {
   "cell_type": "markdown",
   "id": "d1f6fef7",
   "metadata": {},
   "source": [
    "### 2.4 Latency its according jitter between onset of stimulation and peak of the first EPSC. "
   ]
  },
  {
   "cell_type": "code",
   "execution_count": null,
   "id": "8a1a55a7",
   "metadata": {},
   "outputs": [],
   "source": [
    "latency = latency_jitter_analysis(frequencies=[10,50,100],ages=[3,6,9])\n",
    "latency"
   ]
  },
  {
   "cell_type": "code",
   "execution_count": null,
   "id": "0f1a1512",
   "metadata": {},
   "outputs": [],
   "source": [
    "filename = 'results/latency_' + timestr + '.csv'\n",
    "latency.to_csv(filename, index=False)"
   ]
  },
  {
   "cell_type": "code",
   "execution_count": null,
   "id": "4e7397ef",
   "metadata": {},
   "outputs": [],
   "source": [
    "jitter = get_std_latency(agelist=[3,6,9],frequencies=[10,50,100],data=latency)\n",
    "jitter"
   ]
  },
  {
   "cell_type": "code",
   "execution_count": null,
   "id": "d36c0f10",
   "metadata": {},
   "outputs": [],
   "source": [
    "filename = 'results/jitter_' + timestr + '.csv'\n",
    "jitter.to_csv(filename, index=False)"
   ]
  }
 ],
 "metadata": {
  "kernelspec": {
   "display_name": "Python 3",
   "language": "python",
   "name": "python3"
  },
  "language_info": {
   "codemirror_mode": {
    "name": "ipython",
    "version": 3
   },
   "file_extension": ".py",
   "mimetype": "text/x-python",
   "name": "python",
   "nbconvert_exporter": "python",
   "pygments_lexer": "ipython3",
   "version": "3.8.8"
  }
 },
 "nbformat": 4,
 "nbformat_minor": 5
}
